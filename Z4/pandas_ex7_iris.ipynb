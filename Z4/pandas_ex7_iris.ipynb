{
 "cells": [
  {
   "cell_type": "markdown",
   "id": "ab8223d1",
   "metadata": {},
   "source": [
    "## Exercise 7\n",
    "Save the `iris` data frame to `iris2.xlsx`, with split based on variety. Each type should be in a separate sheet with the sheet name the same as variety."
   ]
  },
  {
   "cell_type": "code",
   "execution_count": 1,
   "id": "0aeb283d",
   "metadata": {},
   "outputs": [],
   "source": [
    "import pandas as pd\n",
    "iris = pd.read_csv(\"iris.csv\")"
   ]
  },
  {
   "cell_type": "code",
   "execution_count": 2,
   "id": "805f6f75",
   "metadata": {},
   "outputs": [],
   "source": [
    "with pd.ExcelWriter('iris2.xlsx') as writer:\n",
    "    for variety in iris.variety.unique():\n",
    "        iris_sub = iris[iris[\"variety\"] == variety]\n",
    "        iris_sub.to_excel(writer, sheet_name=variety)"
   ]
  }
 ],
 "metadata": {
  "kernelspec": {
   "display_name": "Python 3 (ipykernel)",
   "language": "python",
   "name": "python3"
  },
  "language_info": {
   "codemirror_mode": {
    "name": "ipython",
    "version": 3
   },
   "file_extension": ".py",
   "mimetype": "text/x-python",
   "name": "python",
   "nbconvert_exporter": "python",
   "pygments_lexer": "ipython3",
   "version": "3.9.7"
  }
 },
 "nbformat": 4,
 "nbformat_minor": 5
}
