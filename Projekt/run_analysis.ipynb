{
 "cells": [
  {
   "cell_type": "code",
   "execution_count": 1,
   "id": "538e2605",
   "metadata": {},
   "outputs": [],
   "source": [
    "import src.co2_analysis as ca"
   ]
  },
  {
   "cell_type": "code",
   "execution_count": 2,
   "id": "694c8dbe",
   "metadata": {},
   "outputs": [],
   "source": [
    "def run_analysis(api_gdp_path, api_pop_path, co2_path, start_year, end_year, up_to_year, number_of_years=10):\n",
    "    data = ca.load_all_files(api_pop_path, api_gdp_path, co2_path)\n",
    "    api_cleared = ca.clear_data(data[0], data[1])\n",
    "    api_gdp = api_cleared[1]\n",
    "    api_pop = api_cleared[0]\n",
    "\n",
    "    data_merged = ca.merge_data(api_gdp, api_pop, data[2])\n",
    "    print(\"Highest CO2 emission over the years:\")\n",
    "    display(ca.co2_ranking(data_merged, start_year, end_year))\n",
    "    print(\"Highest GDP per capita over the years:\")\n",
    "    display(ca.gdp_ranking(data_merged, start_year, end_year))\n",
    "    reduction = ca.co2_reduction_ranking(data_merged, up_to_year, number_of_years)\n",
    "    print(f\"Countries that reduced their CO2 emmision the most between {up_to_year-number_of_years} and {up_to_year}:\")\n",
    "    display(reduction[0])\n",
    "    print(f\"Countries that increased their CO2 emmision the most between {up_to_year-number_of_years} and {up_to_year}:\")\n",
    "    display(reduction[1])\n",
    "    return"
   ]
  },
  {
   "cell_type": "code",
   "execution_count": 3,
   "id": "c7331312",
   "metadata": {},
   "outputs": [
    {
     "name": "stdout",
     "output_type": "stream",
     "text": [
      "Highest CO2 emission over the years:\n",
      "Error: Start Year can't be after End Year.\n"
     ]
    },
    {
     "data": {
      "text/plain": [
       "None"
      ]
     },
     "metadata": {},
     "output_type": "display_data"
    },
    {
     "name": "stdout",
     "output_type": "stream",
     "text": [
      "Highest GDP per capita over the years:\n",
      "Error: Start Year can't be after End Year.\n"
     ]
    },
    {
     "data": {
      "text/plain": [
       "None"
      ]
     },
     "metadata": {},
     "output_type": "display_data"
    },
    {
     "name": "stdout",
     "output_type": "stream",
     "text": [
      "Countries that reduced their CO2 emmision the most between 2009 and 2014:\n"
     ]
    },
    {
     "data": {
      "text/html": [
       "<div>\n",
       "<style scoped>\n",
       "    .dataframe tbody tr th:only-of-type {\n",
       "        vertical-align: middle;\n",
       "    }\n",
       "\n",
       "    .dataframe tbody tr th {\n",
       "        vertical-align: top;\n",
       "    }\n",
       "\n",
       "    .dataframe thead th {\n",
       "        text-align: right;\n",
       "    }\n",
       "</style>\n",
       "<table border=\"1\" class=\"dataframe\">\n",
       "  <thead>\n",
       "    <tr style=\"text-align: right;\">\n",
       "      <th></th>\n",
       "      <th>Reduction</th>\n",
       "    </tr>\n",
       "    <tr>\n",
       "      <th>Country</th>\n",
       "      <th></th>\n",
       "    </tr>\n",
       "  </thead>\n",
       "  <tbody>\n",
       "    <tr>\n",
       "      <th>ARUBA</th>\n",
       "      <td>-4.77</td>\n",
       "    </tr>\n",
       "    <tr>\n",
       "      <th>KUWAIT</th>\n",
       "      <td>-1.33</td>\n",
       "    </tr>\n",
       "    <tr>\n",
       "      <th>LUXEMBOURG</th>\n",
       "      <td>-0.98</td>\n",
       "    </tr>\n",
       "    <tr>\n",
       "      <th>AUSTRALIA</th>\n",
       "      <td>-0.78</td>\n",
       "    </tr>\n",
       "    <tr>\n",
       "      <th>NORWAY</th>\n",
       "      <td>-0.60</td>\n",
       "    </tr>\n",
       "  </tbody>\n",
       "</table>\n",
       "</div>"
      ],
      "text/plain": [
       "            Reduction\n",
       "Country              \n",
       "ARUBA           -4.77\n",
       "KUWAIT          -1.33\n",
       "LUXEMBOURG      -0.98\n",
       "AUSTRALIA       -0.78\n",
       "NORWAY          -0.60"
      ]
     },
     "metadata": {},
     "output_type": "display_data"
    },
    {
     "name": "stdout",
     "output_type": "stream",
     "text": [
      "Countries that increased their CO2 emmision the most between 2009 and 2014:\n"
     ]
    },
    {
     "data": {
      "text/html": [
       "<div>\n",
       "<style scoped>\n",
       "    .dataframe tbody tr th:only-of-type {\n",
       "        vertical-align: middle;\n",
       "    }\n",
       "\n",
       "    .dataframe tbody tr th {\n",
       "        vertical-align: top;\n",
       "    }\n",
       "\n",
       "    .dataframe thead th {\n",
       "        text-align: right;\n",
       "    }\n",
       "</style>\n",
       "<table border=\"1\" class=\"dataframe\">\n",
       "  <thead>\n",
       "    <tr style=\"text-align: right;\">\n",
       "      <th></th>\n",
       "      <th>Reduction</th>\n",
       "    </tr>\n",
       "    <tr>\n",
       "      <th>Country</th>\n",
       "      <th></th>\n",
       "    </tr>\n",
       "  </thead>\n",
       "  <tbody>\n",
       "    <tr>\n",
       "      <th>QATAR</th>\n",
       "      <td>1.68</td>\n",
       "    </tr>\n",
       "    <tr>\n",
       "      <th>NEW CALEDONIA</th>\n",
       "      <td>1.16</td>\n",
       "    </tr>\n",
       "    <tr>\n",
       "      <th>ESTONIA</th>\n",
       "      <td>1.07</td>\n",
       "    </tr>\n",
       "    <tr>\n",
       "      <th>TURKMENISTAN</th>\n",
       "      <td>0.76</td>\n",
       "    </tr>\n",
       "    <tr>\n",
       "      <th>SAUDI ARABIA</th>\n",
       "      <td>0.64</td>\n",
       "    </tr>\n",
       "  </tbody>\n",
       "</table>\n",
       "</div>"
      ],
      "text/plain": [
       "               Reduction\n",
       "Country                 \n",
       "QATAR               1.68\n",
       "NEW CALEDONIA       1.16\n",
       "ESTONIA             1.07\n",
       "TURKMENISTAN        0.76\n",
       "SAUDI ARABIA        0.64"
      ]
     },
     "metadata": {},
     "output_type": "display_data"
    }
   ],
   "source": [
    "run_analysis(\"C:/Users/ewado/OneDrive/Dokumenty/Studia/NPD/API_NY.GDP.MKTP.CD_DS2_en_csv_v2_4751562.csv\", \n",
    "             \"C:/Users/ewado/OneDrive/Dokumenty/Studia/NPD/API_SP.POP.TOTL_DS2_en_csv_v2_4751604.csv\",\n",
    "             \"C:/Users/ewado/OneDrive/Dokumenty/Studia/NPD/data/fossil-fuel-co2-emissions-by-nation_csv.csv\",\n",
    "             2000, 1990, 2014, 5)"
   ]
  },
  {
   "cell_type": "code",
   "execution_count": null,
   "id": "d6785e97",
   "metadata": {},
   "outputs": [],
   "source": []
  }
 ],
 "metadata": {
  "kernelspec": {
   "display_name": "Python 3 (ipykernel)",
   "language": "python",
   "name": "python3"
  },
  "language_info": {
   "codemirror_mode": {
    "name": "ipython",
    "version": 3
   },
   "file_extension": ".py",
   "mimetype": "text/x-python",
   "name": "python",
   "nbconvert_exporter": "python",
   "pygments_lexer": "ipython3",
   "version": "3.9.7"
  }
 },
 "nbformat": 4,
 "nbformat_minor": 5
}
