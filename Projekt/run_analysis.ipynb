{
 "cells": [
  {
   "cell_type": "code",
   "execution_count": 4,
   "id": "b6878ace",
   "metadata": {},
   "outputs": [],
   "source": [
    "import co2_analysis as ca"
   ]
  },
  {
   "cell_type": "code",
   "execution_count": 5,
   "id": "1936cb92",
   "metadata": {},
   "outputs": [],
   "source": [
    "def run_analysis(api_gdp_path, api_pop_path, co2_path, start_year, end_year):\n",
    "    data = ca.load_all_files(api_pop_path, api_gdp_path, co2_path)\n",
    "    data_merged = ca.merge_data(data[0], data[1], data[2])\n",
    "    print(\"Highest CO2 emission over the years:\")\n",
    "    display(ca.co2_ranking(data_merged))\n",
    "    print(\"Highest GDP per capita over the years:\")\n",
    "    display(ca.gdp_ranking(data_merged))\n",
    "    reduction = ca.co2_reduction_ranking(data_merged, start_year, end_year)\n",
    "    print(f\"Countries that reduced their CO2 emmision the most between {start_year} and {end_year}:\")\n",
    "    display(reduction[0])\n",
    "    print(f\"Countries that increased their CO2 emmision the most between {start_year} and {end_year}:\")\n",
    "    display(reduction[1])\n",
    "    return"
   ]
  },
  {
   "cell_type": "code",
   "execution_count": 8,
   "id": "5f069d87",
   "metadata": {},
   "outputs": [
    {
     "ename": "AttributeError",
     "evalue": "module 'co2_analysis' has no attribute 'load_all_files'",
     "output_type": "error",
     "traceback": [
      "\u001b[1;31m---------------------------------------------------------------------------\u001b[0m",
      "\u001b[1;31mAttributeError\u001b[0m                            Traceback (most recent call last)",
      "\u001b[1;32m~\\AppData\\Local\\Temp/ipykernel_20716/3882940145.py\u001b[0m in \u001b[0;36m<module>\u001b[1;34m\u001b[0m\n\u001b[1;32m----> 1\u001b[1;33m run_analysis(\"C:/Users/ewado/OneDrive/Dokumenty/Studia/NPD/API_NY.GDP.MKTP.CD_DS2_en_csv_v2_4751562.csv\", \n\u001b[0m\u001b[0;32m      2\u001b[0m              \u001b[1;34m\"C:/Users/ewado/OneDrive/Dokumenty/Studia/NPD/API_SP.POP.TOTL_DS2_en_csv_v2_4751604.csv\"\u001b[0m\u001b[1;33m,\u001b[0m\u001b[1;33m\u001b[0m\u001b[1;33m\u001b[0m\u001b[0m\n\u001b[0;32m      3\u001b[0m              \"C:/Users/ewado/OneDrive/Dokumenty/Studia/NPD/data/fossil-fuel-co2-emissions-by-nation_csv.csv\", 2004, 2014)\n",
      "\u001b[1;32m~\\AppData\\Local\\Temp/ipykernel_20716/1456791273.py\u001b[0m in \u001b[0;36mrun_analysis\u001b[1;34m(api_gdp_path, api_pop_path, co2_path, start_year, end_year)\u001b[0m\n\u001b[0;32m      1\u001b[0m \u001b[1;32mdef\u001b[0m \u001b[0mrun_analysis\u001b[0m\u001b[1;33m(\u001b[0m\u001b[0mapi_gdp_path\u001b[0m\u001b[1;33m,\u001b[0m \u001b[0mapi_pop_path\u001b[0m\u001b[1;33m,\u001b[0m \u001b[0mco2_path\u001b[0m\u001b[1;33m,\u001b[0m \u001b[0mstart_year\u001b[0m\u001b[1;33m,\u001b[0m \u001b[0mend_year\u001b[0m\u001b[1;33m)\u001b[0m\u001b[1;33m:\u001b[0m\u001b[1;33m\u001b[0m\u001b[1;33m\u001b[0m\u001b[0m\n\u001b[1;32m----> 2\u001b[1;33m     \u001b[0mdata\u001b[0m \u001b[1;33m=\u001b[0m \u001b[0mca\u001b[0m\u001b[1;33m.\u001b[0m\u001b[0mload_all_files\u001b[0m\u001b[1;33m(\u001b[0m\u001b[0mapi_pop_path\u001b[0m\u001b[1;33m,\u001b[0m \u001b[0mapi_gdp_path\u001b[0m\u001b[1;33m,\u001b[0m \u001b[0mco2_path\u001b[0m\u001b[1;33m)\u001b[0m\u001b[1;33m\u001b[0m\u001b[1;33m\u001b[0m\u001b[0m\n\u001b[0m\u001b[0;32m      3\u001b[0m     \u001b[0mdata_merged\u001b[0m \u001b[1;33m=\u001b[0m \u001b[0mca\u001b[0m\u001b[1;33m.\u001b[0m\u001b[0mmerge_data\u001b[0m\u001b[1;33m(\u001b[0m\u001b[0mdata\u001b[0m\u001b[1;33m[\u001b[0m\u001b[1;36m0\u001b[0m\u001b[1;33m]\u001b[0m\u001b[1;33m,\u001b[0m \u001b[0mdata\u001b[0m\u001b[1;33m[\u001b[0m\u001b[1;36m1\u001b[0m\u001b[1;33m]\u001b[0m\u001b[1;33m,\u001b[0m \u001b[0mdata\u001b[0m\u001b[1;33m[\u001b[0m\u001b[1;36m2\u001b[0m\u001b[1;33m]\u001b[0m\u001b[1;33m)\u001b[0m\u001b[1;33m\u001b[0m\u001b[1;33m\u001b[0m\u001b[0m\n\u001b[0;32m      4\u001b[0m     \u001b[0mprint\u001b[0m\u001b[1;33m(\u001b[0m\u001b[1;34m\"Highest CO2 emission over the years:\"\u001b[0m\u001b[1;33m)\u001b[0m\u001b[1;33m\u001b[0m\u001b[1;33m\u001b[0m\u001b[0m\n\u001b[0;32m      5\u001b[0m     \u001b[0mdisplay\u001b[0m\u001b[1;33m(\u001b[0m\u001b[0mca\u001b[0m\u001b[1;33m.\u001b[0m\u001b[0mco2_ranking\u001b[0m\u001b[1;33m(\u001b[0m\u001b[0mdata_merged\u001b[0m\u001b[1;33m)\u001b[0m\u001b[1;33m)\u001b[0m\u001b[1;33m\u001b[0m\u001b[1;33m\u001b[0m\u001b[0m\n",
      "\u001b[1;31mAttributeError\u001b[0m: module 'co2_analysis' has no attribute 'load_all_files'"
     ]
    }
   ],
   "source": [
    "run_analysis(\"C:/Users/ewado/OneDrive/Dokumenty/Studia/NPD/API_NY.GDP.MKTP.CD_DS2_en_csv_v2_4751562.csv\", \n",
    "             \"C:/Users/ewado/OneDrive/Dokumenty/Studia/NPD/API_SP.POP.TOTL_DS2_en_csv_v2_4751604.csv\",\n",
    "             \"C:/Users/ewado/OneDrive/Dokumenty/Studia/NPD/data/fossil-fuel-co2-emissions-by-nation_csv.csv\", 2004, 2014)"
   ]
  },
  {
   "cell_type": "code",
   "execution_count": null,
   "id": "ae414f89",
   "metadata": {},
   "outputs": [],
   "source": []
  }
 ],
 "metadata": {
  "kernelspec": {
   "display_name": "Python 3 (ipykernel)",
   "language": "python",
   "name": "python3"
  },
  "language_info": {
   "codemirror_mode": {
    "name": "ipython",
    "version": 3
   },
   "file_extension": ".py",
   "mimetype": "text/x-python",
   "name": "python",
   "nbconvert_exporter": "python",
   "pygments_lexer": "ipython3",
   "version": "3.9.7"
  }
 },
 "nbformat": 4,
 "nbformat_minor": 5
}
